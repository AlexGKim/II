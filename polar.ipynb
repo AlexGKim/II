{
 "cells": [
  {
   "cell_type": "code",
   "execution_count": 20,
   "id": "386226f7-b2ec-4596-8524-116a7cb90c91",
   "metadata": {},
   "outputs": [],
   "source": [
    "import h5py\n",
    "import matplotlib.pyplot as plt\n",
    "from matplotlib.colors import LogNorm\n",
    "import numpy\n",
    "from scipy.fft import fft, rfft, fftshift,rfft2\n",
    "from scipy.special import jv\n",
    "from matplotlib.image import NonUniformImage"
   ]
  },
  {
   "cell_type": "code",
   "execution_count": 5,
   "id": "e40bb6e8-34be-446f-8697-fcb511ef0f99",
   "metadata": {},
   "outputs": [],
   "source": [
    "U = numpy.load('Phase0U.npy')\n",
    "Q = numpy.load('Phase0Q.npy')\n",
    "Flux = numpy.load('Phase0Flux.npy')"
   ]
  },
  {
   "cell_type": "code",
   "execution_count": 8,
   "id": "7ea21c19-4fc2-4e89-bd47-d5ce9a130249",
   "metadata": {},
   "outputs": [],
   "source": [
    "Fluxmax = Flux.max()\n",
    "U=U/Fluxmax\n",
    "Q=Q/Fluxmax\n",
    "Flux=Flux/Fluxmax"
   ]
  },
  {
   "cell_type": "code",
   "execution_count": null,
   "id": "16b0b306-5ed3-4b46-8941-967fd6299a74",
   "metadata": {},
   "outputs": [],
   "source": []
  },
  {
   "cell_type": "code",
   "execution_count": 11,
   "id": "0d2e9af1-c078-4c93-b82e-bbff1d30e7c8",
   "metadata": {},
   "outputs": [
    {
     "name": "stderr",
     "output_type": "stream",
     "text": [
      "/var/folders/hr/9sdqv6450z16rzwk76fgsygw0000gn/T/ipykernel_97199/3510014790.py:1: RuntimeWarning: invalid value encountered in divide\n",
      "  Polarization = numpy.sqrt(U*U+Q*Q)/Flux\n"
     ]
    }
   ],
   "source": [
    "Polarization = numpy.sqrt(U*U+Q*Q)/Flux"
   ]
  },
  {
   "cell_type": "code",
   "execution_count": 21,
   "id": "3b8c764f-ac68-4412-9cca-84af50465c15",
   "metadata": {},
   "outputs": [
    {
     "ename": "NameError",
     "evalue": "name 'logNorm' is not defined",
     "output_type": "error",
     "traceback": [
      "\u001b[0;31m---------------------------------------------------------------------------\u001b[0m",
      "\u001b[0;31mNameError\u001b[0m                                 Traceback (most recent call last)",
      "Cell \u001b[0;32mIn[21], line 1\u001b[0m\n\u001b[0;32m----> 1\u001b[0m plt\u001b[38;5;241m.\u001b[39mimshow(Polarization[\u001b[38;5;241m40\u001b[39m,:,:],norm\u001b[38;5;241m=\u001b[39m\u001b[43mlogNorm\u001b[49m())\n\u001b[1;32m      2\u001b[0m plt\u001b[38;5;241m.\u001b[39mcolorbar()\n",
      "\u001b[0;31mNameError\u001b[0m: name 'logNorm' is not defined"
     ]
    }
   ],
   "source": [
    "plt.imshow(Polarization[40,:,:],norm=logNorm())\n",
    "plt.colorbar()"
   ]
  },
  {
   "cell_type": "code",
   "execution_count": null,
   "id": "458156e4-533f-4598-aa0a-888308b5d2c5",
   "metadata": {},
   "outputs": [],
   "source": []
  }
 ],
 "metadata": {
  "kernelspec": {
   "display_name": "Python 3 (ipykernel)",
   "language": "python",
   "name": "python3"
  },
  "language_info": {
   "codemirror_mode": {
    "name": "ipython",
    "version": 3
   },
   "file_extension": ".py",
   "mimetype": "text/x-python",
   "name": "python",
   "nbconvert_exporter": "python",
   "pygments_lexer": "ipython3",
   "version": "3.13.0"
  }
 },
 "nbformat": 4,
 "nbformat_minor": 5
}
